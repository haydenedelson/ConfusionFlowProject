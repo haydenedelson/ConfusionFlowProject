{
  "nbformat": 4,
  "nbformat_minor": 0,
  "metadata": {
    "colab": {
      "name": "info_vis_models.ipynb",
      "provenance": []
    },
    "kernelspec": {
      "name": "python3",
      "display_name": "Python 3"
    },
    "language_info": {
      "name": "python"
    },
    "accelerator": "GPU"
  },
  "cells": [
    {
      "cell_type": "code",
      "execution_count": 1,
      "metadata": {
        "colab": {
          "base_uri": "https://localhost:8080/"
        },
        "id": "rXurnYXOC0IE",
        "outputId": "4673b1af-709c-4644-b780-cb772b1fceec"
      },
      "outputs": [
        {
          "output_type": "stream",
          "name": "stdout",
          "text": [
            "Mounted at /content/gdrive\n"
          ]
        }
      ],
      "source": [
        "# Mount drive\n",
        "from google.colab import drive\n",
        "drive.mount('/content/gdrive', force_remount=True)"
      ]
    },
    {
      "cell_type": "code",
      "source": [
        "%cd /content/gdrive/MyDrive/InfoVisProject/confusionflow"
      ],
      "metadata": {
        "colab": {
          "base_uri": "https://localhost:8080/"
        },
        "id": "ujMfIvl4C3tV",
        "outputId": "4af3b0cf-deda-4342-9b71-8e8ee6384862"
      },
      "execution_count": 2,
      "outputs": [
        {
          "output_type": "stream",
          "name": "stdout",
          "text": [
            "/content/gdrive/MyDrive/InfoVisProject/confusionflow\n"
          ]
        }
      ]
    },
    {
      "cell_type": "code",
      "source": [
        "import numpy as np\n",
        "import tensorflow as tf\n",
        "from tensorflow.keras.layers import Input, Dense, Flatten, Dropout\n",
        "from tensorflow.keras.models import Model, Sequential\n",
        "from tensorflow.keras.applications import VGG16"
      ],
      "metadata": {
        "id": "uC4vkM1PDEG_"
      },
      "execution_count": 3,
      "outputs": []
    },
    {
      "cell_type": "code",
      "source": [
        "from callback import Logs"
      ],
      "metadata": {
        "id": "jJY1FVzzDRtB"
      },
      "execution_count": 4,
      "outputs": []
    },
    {
      "cell_type": "markdown",
      "source": [
        "# Load Data"
      ],
      "metadata": {
        "id": "8UqZ-pwXDYvI"
      }
    },
    {
      "cell_type": "code",
      "source": [
        "cifar10 = tf.keras.datasets.cifar10\n",
        "\n",
        "(x_train, y_train), (x_test, y_test) = cifar10.load_data()\n",
        "\n",
        "x_train, x_test = x_train / 255.0, x_test / 255.0"
      ],
      "metadata": {
        "id": "328LV23WDVZs"
      },
      "execution_count": 5,
      "outputs": []
    },
    {
      "cell_type": "markdown",
      "source": [
        "# Model 1"
      ],
      "metadata": {
        "id": "zvGLpS8SEXhM"
      }
    },
    {
      "cell_type": "code",
      "source": [
        "model_1 = Sequential(\n",
        "    [\n",
        "     Flatten(),\n",
        "     Dense(256, activation='relu'),\n",
        "     Dropout(0.2),\n",
        "     Dense(128, activation='relu'),\n",
        "     Dropout(0.2),\n",
        "     Dense(10, activation='softmax'),\n",
        "    ]\n",
        ")"
      ],
      "metadata": {
        "id": "QQ609ntgDaoc"
      },
      "execution_count": 6,
      "outputs": []
    },
    {
      "cell_type": "code",
      "source": [
        "model_1_callback = Logs((x_test, y_test), loss='sparse_categorical_crossentropy')"
      ],
      "metadata": {
        "id": "pPN8LRsNDozb"
      },
      "execution_count": 7,
      "outputs": []
    },
    {
      "cell_type": "code",
      "source": [
        "model_1.compile(\n",
        "    optimizer=\"sgd\", loss=\"sparse_categorical_crossentropy\", metrics=[\"accuracy\"]\n",
        ")"
      ],
      "metadata": {
        "id": "dBDff0j5Drdi"
      },
      "execution_count": 8,
      "outputs": []
    },
    {
      "cell_type": "code",
      "source": [
        "model_1.fit(x_train, y_train, epochs=25, batch_size=64, callbacks=[model_1_callback])"
      ],
      "metadata": {
        "colab": {
          "base_uri": "https://localhost:8080/"
        },
        "id": "A3xX6w5mDta-",
        "outputId": "010346d6-5f91-4e91-c930-929fad9b7889"
      },
      "execution_count": 9,
      "outputs": [
        {
          "output_type": "stream",
          "name": "stdout",
          "text": [
            "Epoch 1/25\n",
            "782/782 [==============================] - 3s 3ms/step - loss: 2.0158 - accuracy: 0.2699\n",
            "Epoch 2/25\n",
            "782/782 [==============================] - 2s 3ms/step - loss: 1.8412 - accuracy: 0.3435\n",
            "Epoch 3/25\n",
            "782/782 [==============================] - 2s 3ms/step - loss: 1.7720 - accuracy: 0.3680\n",
            "Epoch 4/25\n",
            "782/782 [==============================] - 2s 3ms/step - loss: 1.7222 - accuracy: 0.3877\n",
            "Epoch 5/25\n",
            "782/782 [==============================] - 2s 3ms/step - loss: 1.6879 - accuracy: 0.3980\n",
            "Epoch 6/25\n",
            "782/782 [==============================] - 2s 3ms/step - loss: 1.6596 - accuracy: 0.4143\n",
            "Epoch 7/25\n",
            "782/782 [==============================] - 2s 3ms/step - loss: 1.6369 - accuracy: 0.4198\n",
            "Epoch 8/25\n",
            "782/782 [==============================] - 2s 3ms/step - loss: 1.6114 - accuracy: 0.4317\n",
            "Epoch 9/25\n",
            "782/782 [==============================] - 2s 3ms/step - loss: 1.5911 - accuracy: 0.4362\n",
            "Epoch 10/25\n",
            "782/782 [==============================] - 2s 3ms/step - loss: 1.5699 - accuracy: 0.4441\n",
            "Epoch 11/25\n",
            "782/782 [==============================] - 2s 3ms/step - loss: 1.5558 - accuracy: 0.4472\n",
            "Epoch 12/25\n",
            "782/782 [==============================] - 2s 3ms/step - loss: 1.5382 - accuracy: 0.4564\n",
            "Epoch 13/25\n",
            "782/782 [==============================] - 2s 3ms/step - loss: 1.5222 - accuracy: 0.4613\n",
            "Epoch 14/25\n",
            "782/782 [==============================] - 2s 3ms/step - loss: 1.5103 - accuracy: 0.4662\n",
            "Epoch 15/25\n",
            "782/782 [==============================] - 2s 3ms/step - loss: 1.4953 - accuracy: 0.4705\n",
            "Epoch 16/25\n",
            "782/782 [==============================] - 2s 3ms/step - loss: 1.4851 - accuracy: 0.4739\n",
            "Epoch 17/25\n",
            "782/782 [==============================] - 2s 3ms/step - loss: 1.4759 - accuracy: 0.4769\n",
            "Epoch 18/25\n",
            "782/782 [==============================] - 2s 3ms/step - loss: 1.4607 - accuracy: 0.4847\n",
            "Epoch 19/25\n",
            "782/782 [==============================] - 2s 3ms/step - loss: 1.4523 - accuracy: 0.4876\n",
            "Epoch 20/25\n",
            "782/782 [==============================] - 2s 3ms/step - loss: 1.4419 - accuracy: 0.4902\n",
            "Epoch 21/25\n",
            "782/782 [==============================] - 2s 3ms/step - loss: 1.4292 - accuracy: 0.4934\n",
            "Epoch 22/25\n",
            "782/782 [==============================] - 2s 3ms/step - loss: 1.4244 - accuracy: 0.4927\n",
            "Epoch 23/25\n",
            "782/782 [==============================] - 2s 3ms/step - loss: 1.4145 - accuracy: 0.4992\n",
            "Epoch 24/25\n",
            "782/782 [==============================] - 2s 3ms/step - loss: 1.4020 - accuracy: 0.5040\n",
            "Epoch 25/25\n",
            "782/782 [==============================] - 2s 3ms/step - loss: 1.3943 - accuracy: 0.5096\n"
          ]
        },
        {
          "output_type": "execute_result",
          "data": {
            "text/plain": [
              "<keras.callbacks.History at 0x7f7480061d90>"
            ]
          },
          "metadata": {},
          "execution_count": 9
        }
      ]
    },
    {
      "cell_type": "code",
      "source": [
        "model_1_callback.export('../logs', 'model_1')"
      ],
      "metadata": {
        "id": "xFZmM3baDwC_"
      },
      "execution_count": 10,
      "outputs": []
    },
    {
      "cell_type": "markdown",
      "source": [
        "# Model 2"
      ],
      "metadata": {
        "id": "w5IXnFVqEU1O"
      }
    },
    {
      "cell_type": "code",
      "source": [
        "vgg = VGG16(weights='imagenet', include_top=False, input_shape=(32, 32, 3))\n",
        "vgg.trainable = False"
      ],
      "metadata": {
        "id": "VgahH5u7D1rR"
      },
      "execution_count": 11,
      "outputs": []
    },
    {
      "cell_type": "code",
      "source": [
        "model_2 = Sequential()\n",
        "model_2.add(vgg)\n",
        "model_2.add(Flatten())\n",
        "model_2.add(Dense(512, activation='relu'))\n",
        "model_2.add(Dense(10, activation='softmax'))\n",
        "\n",
        "model_2.summary()"
      ],
      "metadata": {
        "colab": {
          "base_uri": "https://localhost:8080/"
        },
        "id": "zH-VpB5yLkWV",
        "outputId": "8833fd33-74e5-46cb-d7fd-c969f9b02986"
      },
      "execution_count": 12,
      "outputs": [
        {
          "output_type": "stream",
          "name": "stdout",
          "text": [
            "Model: \"sequential_1\"\n",
            "_________________________________________________________________\n",
            " Layer (type)                Output Shape              Param #   \n",
            "=================================================================\n",
            " vgg16 (Functional)          (None, 1, 1, 512)         14714688  \n",
            "                                                                 \n",
            " flatten_1 (Flatten)         (None, 512)               0         \n",
            "                                                                 \n",
            " dense_3 (Dense)             (None, 512)               262656    \n",
            "                                                                 \n",
            " dense_4 (Dense)             (None, 10)                5130      \n",
            "                                                                 \n",
            "=================================================================\n",
            "Total params: 14,982,474\n",
            "Trainable params: 267,786\n",
            "Non-trainable params: 14,714,688\n",
            "_________________________________________________________________\n"
          ]
        }
      ]
    },
    {
      "cell_type": "code",
      "source": [
        "model_2.compile(\n",
        "    optimizer='RMSprop', loss='sparse_categorical_crossentropy', metrics=['accuracy']\n",
        ")"
      ],
      "metadata": {
        "id": "3jFP27c4LkQA"
      },
      "execution_count": 13,
      "outputs": []
    },
    {
      "cell_type": "code",
      "source": [
        "model_2_callback = Logs((x_test, y_test), loss='sparse_categorical_crossentropy')"
      ],
      "metadata": {
        "id": "iRordUDbMY9M"
      },
      "execution_count": 14,
      "outputs": []
    },
    {
      "cell_type": "code",
      "source": [
        "model_2.fit(x_train, y_train, epochs=25, batch_size=64, callbacks=[model_2_callback])"
      ],
      "metadata": {
        "colab": {
          "base_uri": "https://localhost:8080/"
        },
        "id": "nyKmW1dbLkJx",
        "outputId": "67e2db10-5c13-4ca2-fdab-dd6da105bf70"
      },
      "execution_count": 15,
      "outputs": [
        {
          "output_type": "stream",
          "name": "stdout",
          "text": [
            "Epoch 1/25\n",
            "782/782 [==============================] - 11s 13ms/step - loss: 1.3574 - accuracy: 0.5237\n",
            "Epoch 2/25\n",
            "782/782 [==============================] - 10s 13ms/step - loss: 1.1712 - accuracy: 0.5896\n",
            "Epoch 3/25\n",
            "782/782 [==============================] - 10s 13ms/step - loss: 1.0974 - accuracy: 0.6151\n",
            "Epoch 4/25\n",
            "782/782 [==============================] - 10s 13ms/step - loss: 1.0446 - accuracy: 0.6353\n",
            "Epoch 5/25\n",
            "782/782 [==============================] - 10s 13ms/step - loss: 1.0000 - accuracy: 0.6512\n",
            "Epoch 6/25\n",
            "782/782 [==============================] - 10s 13ms/step - loss: 0.9592 - accuracy: 0.6653\n",
            "Epoch 7/25\n",
            "782/782 [==============================] - 10s 13ms/step - loss: 0.9237 - accuracy: 0.6787\n",
            "Epoch 8/25\n",
            "782/782 [==============================] - 10s 13ms/step - loss: 0.8889 - accuracy: 0.6896\n",
            "Epoch 9/25\n",
            "782/782 [==============================] - 10s 13ms/step - loss: 0.8570 - accuracy: 0.6994\n",
            "Epoch 10/25\n",
            "782/782 [==============================] - 10s 13ms/step - loss: 0.8249 - accuracy: 0.7140\n",
            "Epoch 11/25\n",
            "782/782 [==============================] - 10s 13ms/step - loss: 0.7932 - accuracy: 0.7243\n",
            "Epoch 12/25\n",
            "782/782 [==============================] - 10s 13ms/step - loss: 0.7654 - accuracy: 0.7363\n",
            "Epoch 13/25\n",
            "782/782 [==============================] - 10s 13ms/step - loss: 0.7360 - accuracy: 0.7460\n",
            "Epoch 14/25\n",
            "782/782 [==============================] - 10s 13ms/step - loss: 0.7077 - accuracy: 0.7556\n",
            "Epoch 15/25\n",
            "782/782 [==============================] - 10s 13ms/step - loss: 0.6801 - accuracy: 0.7643\n",
            "Epoch 16/25\n",
            "782/782 [==============================] - 10s 13ms/step - loss: 0.6533 - accuracy: 0.7745\n",
            "Epoch 17/25\n",
            "782/782 [==============================] - 10s 13ms/step - loss: 0.6279 - accuracy: 0.7831\n",
            "Epoch 18/25\n",
            "782/782 [==============================] - 10s 13ms/step - loss: 0.6022 - accuracy: 0.7931\n",
            "Epoch 19/25\n",
            "782/782 [==============================] - 10s 13ms/step - loss: 0.5780 - accuracy: 0.8013\n",
            "Epoch 20/25\n",
            "782/782 [==============================] - 10s 13ms/step - loss: 0.5546 - accuracy: 0.8082\n",
            "Epoch 21/25\n",
            "782/782 [==============================] - 10s 13ms/step - loss: 0.5326 - accuracy: 0.8158\n",
            "Epoch 22/25\n",
            "782/782 [==============================] - 10s 13ms/step - loss: 0.5113 - accuracy: 0.8255\n",
            "Epoch 23/25\n",
            "782/782 [==============================] - 10s 13ms/step - loss: 0.4875 - accuracy: 0.8329\n",
            "Epoch 24/25\n",
            "782/782 [==============================] - 10s 13ms/step - loss: 0.4689 - accuracy: 0.8376\n",
            "Epoch 25/25\n",
            "782/782 [==============================] - 10s 13ms/step - loss: 0.4527 - accuracy: 0.8445\n"
          ]
        },
        {
          "output_type": "execute_result",
          "data": {
            "text/plain": [
              "<keras.callbacks.History at 0x7f74181f9bd0>"
            ]
          },
          "metadata": {},
          "execution_count": 15
        }
      ]
    },
    {
      "cell_type": "code",
      "source": [
        "model_2_callback.export('../logs', 'model_2')"
      ],
      "metadata": {
        "id": "b7QW7F9CD3XN"
      },
      "execution_count": 16,
      "outputs": []
    },
    {
      "cell_type": "code",
      "source": [
        ""
      ],
      "metadata": {
        "id": "-vsrt9w5D85j"
      },
      "execution_count": null,
      "outputs": []
    }
  ]
}