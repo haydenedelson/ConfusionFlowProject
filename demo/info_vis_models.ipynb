{
  "nbformat": 4,
  "nbformat_minor": 0,
  "metadata": {
    "colab": {
      "name": "info_vis_models.ipynb",
      "provenance": []
    },
    "kernelspec": {
      "name": "python3",
      "display_name": "Python 3"
    },
    "language_info": {
      "name": "python"
    },
    "accelerator": "GPU"
  },
  "cells": [
    {
      "cell_type": "code",
      "execution_count": 1,
      "metadata": {
        "colab": {
          "base_uri": "https://localhost:8080/"
        },
        "id": "rXurnYXOC0IE",
        "outputId": "62215f72-6163-4f69-f5d4-ab3bb8af9b99"
      },
      "outputs": [
        {
          "output_type": "stream",
          "name": "stdout",
          "text": [
            "Mounted at /content/gdrive\n"
          ]
        }
      ],
      "source": [
        "# Mount drive\n",
        "from google.colab import drive\n",
        "drive.mount('/content/gdrive', force_remount=True)"
      ]
    },
    {
      "cell_type": "code",
      "source": [
        "%cd /content/gdrive/MyDrive/InfoVisProject/confusionflow"
      ],
      "metadata": {
        "colab": {
          "base_uri": "https://localhost:8080/"
        },
        "id": "ujMfIvl4C3tV",
        "outputId": "8c3b2a1c-abcf-42ca-fc65-4414ed32e1e9"
      },
      "execution_count": 2,
      "outputs": [
        {
          "output_type": "stream",
          "name": "stdout",
          "text": [
            "/content/gdrive/MyDrive/InfoVisProject/confusionflow\n"
          ]
        }
      ]
    },
    {
      "cell_type": "code",
      "source": [
        "import numpy as np\n",
        "import tensorflow as tf\n",
        "from tensorflow.keras.layers import Input, Dense, Flatten, Dropout\n",
        "from tensorflow.keras.models import Model, Sequential\n",
        "from tensorflow.keras.applications import VGG16"
      ],
      "metadata": {
        "id": "uC4vkM1PDEG_"
      },
      "execution_count": 3,
      "outputs": []
    },
    {
      "cell_type": "code",
      "source": [
        "from callback import Logs"
      ],
      "metadata": {
        "id": "jJY1FVzzDRtB"
      },
      "execution_count": 4,
      "outputs": []
    },
    {
      "cell_type": "markdown",
      "source": [
        "# Load Data"
      ],
      "metadata": {
        "id": "8UqZ-pwXDYvI"
      }
    },
    {
      "cell_type": "code",
      "source": [
        "cifar10 = tf.keras.datasets.cifar10\n",
        "\n",
        "(x_train, y_train), (x_test, y_test) = cifar10.load_data()\n",
        "\n",
        "x_train, x_test = x_train / 255.0, x_test / 255.0"
      ],
      "metadata": {
        "id": "328LV23WDVZs"
      },
      "execution_count": 5,
      "outputs": []
    },
    {
      "cell_type": "markdown",
      "source": [
        "# Model 1"
      ],
      "metadata": {
        "id": "zvGLpS8SEXhM"
      }
    },
    {
      "cell_type": "code",
      "source": [
        "model_1 = Sequential(\n",
        "    [\n",
        "     Flatten(),\n",
        "     Dense(256, activation='relu'),\n",
        "     Dropout(0.2),\n",
        "     Dense(128, activation='relu'),\n",
        "     Dropout(0.2),\n",
        "     Dense(10, activation='softmax'),\n",
        "    ]\n",
        ")"
      ],
      "metadata": {
        "id": "QQ609ntgDaoc"
      },
      "execution_count": 6,
      "outputs": []
    },
    {
      "cell_type": "code",
      "source": [
        "model_1_callback = Logs((x_test, y_test), loss='sparse_categorical_crossentropy')"
      ],
      "metadata": {
        "id": "pPN8LRsNDozb"
      },
      "execution_count": 7,
      "outputs": []
    },
    {
      "cell_type": "code",
      "source": [
        "model_1.compile(\n",
        "    optimizer=\"sgd\", loss=\"sparse_categorical_crossentropy\", metrics=[\"accuracy\"]\n",
        ")"
      ],
      "metadata": {
        "id": "dBDff0j5Drdi"
      },
      "execution_count": 8,
      "outputs": []
    },
    {
      "cell_type": "code",
      "source": [
        "model_1.fit(x_train, y_train, epochs=35, batch_size=64, callbacks=[model_1_callback])"
      ],
      "metadata": {
        "colab": {
          "base_uri": "https://localhost:8080/"
        },
        "id": "A3xX6w5mDta-",
        "outputId": "896f2f0b-d306-406e-acc9-272c37dc4a65"
      },
      "execution_count": 9,
      "outputs": [
        {
          "output_type": "stream",
          "name": "stdout",
          "text": [
            "Epoch 1/35\n",
            "782/782 [==============================] - 3s 3ms/step - loss: 2.0198 - accuracy: 0.2645\n",
            "Epoch 2/35\n",
            "782/782 [==============================] - 2s 3ms/step - loss: 1.8560 - accuracy: 0.3360\n",
            "Epoch 3/35\n",
            "782/782 [==============================] - 2s 3ms/step - loss: 1.7851 - accuracy: 0.3633\n",
            "Epoch 4/35\n",
            "782/782 [==============================] - 2s 3ms/step - loss: 1.7385 - accuracy: 0.3785\n",
            "Epoch 5/35\n",
            "782/782 [==============================] - 2s 3ms/step - loss: 1.7002 - accuracy: 0.3968\n",
            "Epoch 6/35\n",
            "782/782 [==============================] - 2s 3ms/step - loss: 1.6694 - accuracy: 0.4078\n",
            "Epoch 7/35\n",
            "782/782 [==============================] - 2s 3ms/step - loss: 1.6413 - accuracy: 0.4199\n",
            "Epoch 8/35\n",
            "782/782 [==============================] - 2s 3ms/step - loss: 1.6190 - accuracy: 0.4259\n",
            "Epoch 9/35\n",
            "782/782 [==============================] - 2s 3ms/step - loss: 1.5979 - accuracy: 0.4343\n",
            "Epoch 10/35\n",
            "782/782 [==============================] - 2s 3ms/step - loss: 1.5780 - accuracy: 0.4410\n",
            "Epoch 11/35\n",
            "782/782 [==============================] - 2s 3ms/step - loss: 1.5595 - accuracy: 0.4473\n",
            "Epoch 12/35\n",
            "782/782 [==============================] - 2s 3ms/step - loss: 1.5405 - accuracy: 0.4549\n",
            "Epoch 13/35\n",
            "782/782 [==============================] - 2s 3ms/step - loss: 1.5306 - accuracy: 0.4561\n",
            "Epoch 14/35\n",
            "782/782 [==============================] - 2s 3ms/step - loss: 1.5126 - accuracy: 0.4621\n",
            "Epoch 15/35\n",
            "782/782 [==============================] - 2s 3ms/step - loss: 1.4993 - accuracy: 0.4650\n",
            "Epoch 16/35\n",
            "782/782 [==============================] - 2s 3ms/step - loss: 1.4911 - accuracy: 0.4710\n",
            "Epoch 17/35\n",
            "782/782 [==============================] - 2s 3ms/step - loss: 1.4736 - accuracy: 0.4785\n",
            "Epoch 18/35\n",
            "782/782 [==============================] - 4s 5ms/step - loss: 1.4674 - accuracy: 0.4815\n",
            "Epoch 19/35\n",
            "782/782 [==============================] - 2s 3ms/step - loss: 1.4520 - accuracy: 0.4842\n",
            "Epoch 20/35\n",
            "782/782 [==============================] - 2s 3ms/step - loss: 1.4465 - accuracy: 0.4885\n",
            "Epoch 21/35\n",
            "782/782 [==============================] - 2s 3ms/step - loss: 1.4361 - accuracy: 0.4896\n",
            "Epoch 22/35\n",
            "782/782 [==============================] - 2s 3ms/step - loss: 1.4274 - accuracy: 0.4907\n",
            "Epoch 23/35\n",
            "782/782 [==============================] - 2s 3ms/step - loss: 1.4169 - accuracy: 0.4999\n",
            "Epoch 24/35\n",
            "782/782 [==============================] - 2s 3ms/step - loss: 1.4068 - accuracy: 0.5031\n",
            "Epoch 25/35\n",
            "782/782 [==============================] - 2s 3ms/step - loss: 1.3989 - accuracy: 0.5033\n",
            "Epoch 26/35\n",
            "782/782 [==============================] - 2s 3ms/step - loss: 1.3901 - accuracy: 0.5094\n",
            "Epoch 27/35\n",
            "782/782 [==============================] - 2s 3ms/step - loss: 1.3878 - accuracy: 0.5069\n",
            "Epoch 28/35\n",
            "782/782 [==============================] - 2s 3ms/step - loss: 1.3741 - accuracy: 0.5116\n",
            "Epoch 29/35\n",
            "782/782 [==============================] - 2s 3ms/step - loss: 1.3646 - accuracy: 0.5167\n",
            "Epoch 30/35\n",
            "782/782 [==============================] - 2s 3ms/step - loss: 1.3607 - accuracy: 0.5168\n",
            "Epoch 31/35\n",
            "782/782 [==============================] - 2s 3ms/step - loss: 1.3515 - accuracy: 0.5191\n",
            "Epoch 32/35\n",
            "782/782 [==============================] - 2s 3ms/step - loss: 1.3407 - accuracy: 0.5242\n",
            "Epoch 33/35\n",
            "782/782 [==============================] - 2s 3ms/step - loss: 1.3389 - accuracy: 0.5239\n",
            "Epoch 34/35\n",
            "782/782 [==============================] - 2s 3ms/step - loss: 1.3322 - accuracy: 0.5250\n",
            "Epoch 35/35\n",
            "782/782 [==============================] - 2s 3ms/step - loss: 1.3266 - accuracy: 0.5305\n"
          ]
        },
        {
          "output_type": "execute_result",
          "data": {
            "text/plain": [
              "<keras.callbacks.History at 0x7f07c00c6510>"
            ]
          },
          "metadata": {},
          "execution_count": 9
        }
      ]
    },
    {
      "cell_type": "code",
      "source": [
        "model_1_callback.export('../logs', 'model_1')"
      ],
      "metadata": {
        "id": "xFZmM3baDwC_"
      },
      "execution_count": 10,
      "outputs": []
    },
    {
      "cell_type": "markdown",
      "source": [
        "# Model 2"
      ],
      "metadata": {
        "id": "w5IXnFVqEU1O"
      }
    },
    {
      "cell_type": "code",
      "source": [
        "vgg = VGG16(weights='imagenet', include_top=False, input_shape=(32, 32, 3))\n",
        "vgg.trainable = False"
      ],
      "metadata": {
        "id": "VgahH5u7D1rR"
      },
      "execution_count": 11,
      "outputs": []
    },
    {
      "cell_type": "code",
      "source": [
        "model_2 = Sequential()\n",
        "model_2.add(vgg)\n",
        "model_2.add(Flatten())\n",
        "model_2.add(Dense(512, activation='relu'))\n",
        "model_2.add(Dense(10, activation='softmax'))\n",
        "\n",
        "model_2.summary()"
      ],
      "metadata": {
        "colab": {
          "base_uri": "https://localhost:8080/"
        },
        "id": "zH-VpB5yLkWV",
        "outputId": "adfe410f-a00b-4a59-917d-3f2ee6496aaa"
      },
      "execution_count": 12,
      "outputs": [
        {
          "output_type": "stream",
          "name": "stdout",
          "text": [
            "Model: \"sequential_1\"\n",
            "_________________________________________________________________\n",
            " Layer (type)                Output Shape              Param #   \n",
            "=================================================================\n",
            " vgg16 (Functional)          (None, 1, 1, 512)         14714688  \n",
            "                                                                 \n",
            " flatten_1 (Flatten)         (None, 512)               0         \n",
            "                                                                 \n",
            " dense_3 (Dense)             (None, 512)               262656    \n",
            "                                                                 \n",
            " dense_4 (Dense)             (None, 10)                5130      \n",
            "                                                                 \n",
            "=================================================================\n",
            "Total params: 14,982,474\n",
            "Trainable params: 267,786\n",
            "Non-trainable params: 14,714,688\n",
            "_________________________________________________________________\n"
          ]
        }
      ]
    },
    {
      "cell_type": "code",
      "source": [
        "model_2.compile(\n",
        "    optimizer='RMSprop', loss='sparse_categorical_crossentropy', metrics=['accuracy']\n",
        ")"
      ],
      "metadata": {
        "id": "3jFP27c4LkQA"
      },
      "execution_count": 13,
      "outputs": []
    },
    {
      "cell_type": "code",
      "source": [
        "model_2_callback = Logs((x_test, y_test), loss='sparse_categorical_crossentropy')"
      ],
      "metadata": {
        "id": "iRordUDbMY9M"
      },
      "execution_count": 14,
      "outputs": []
    },
    {
      "cell_type": "code",
      "source": [
        "model_2.fit(x_train, y_train, epochs=35, batch_size=64, callbacks=[model_2_callback])"
      ],
      "metadata": {
        "colab": {
          "base_uri": "https://localhost:8080/"
        },
        "id": "nyKmW1dbLkJx",
        "outputId": "b163cfd6-dd10-4114-bc84-2e17f41768fd"
      },
      "execution_count": 15,
      "outputs": [
        {
          "output_type": "stream",
          "name": "stdout",
          "text": [
            "Epoch 1/35\n",
            "782/782 [==============================] - 11s 13ms/step - loss: 1.3618 - accuracy: 0.5229\n",
            "Epoch 2/35\n",
            "782/782 [==============================] - 10s 12ms/step - loss: 1.1715 - accuracy: 0.5900\n",
            "Epoch 3/35\n",
            "782/782 [==============================] - 10s 13ms/step - loss: 1.0969 - accuracy: 0.6165\n",
            "Epoch 4/35\n",
            "782/782 [==============================] - 10s 13ms/step - loss: 1.0452 - accuracy: 0.6352\n",
            "Epoch 5/35\n",
            "782/782 [==============================] - 10s 13ms/step - loss: 0.9999 - accuracy: 0.6499\n",
            "Epoch 6/35\n",
            "782/782 [==============================] - 10s 13ms/step - loss: 0.9619 - accuracy: 0.6634\n",
            "Epoch 7/35\n",
            "782/782 [==============================] - 10s 13ms/step - loss: 0.9231 - accuracy: 0.6789\n",
            "Epoch 8/35\n",
            "782/782 [==============================] - 10s 13ms/step - loss: 0.8865 - accuracy: 0.6900\n",
            "Epoch 9/35\n",
            "782/782 [==============================] - 10s 13ms/step - loss: 0.8546 - accuracy: 0.7004\n",
            "Epoch 10/35\n",
            "782/782 [==============================] - 10s 13ms/step - loss: 0.8211 - accuracy: 0.7116\n",
            "Epoch 11/35\n",
            "782/782 [==============================] - 10s 13ms/step - loss: 0.7932 - accuracy: 0.7226\n",
            "Epoch 12/35\n",
            "782/782 [==============================] - 10s 13ms/step - loss: 0.7605 - accuracy: 0.7342\n",
            "Epoch 13/35\n",
            "782/782 [==============================] - 10s 13ms/step - loss: 0.7347 - accuracy: 0.7426\n",
            "Epoch 14/35\n",
            "782/782 [==============================] - 10s 13ms/step - loss: 0.7052 - accuracy: 0.7559\n",
            "Epoch 15/35\n",
            "782/782 [==============================] - 10s 13ms/step - loss: 0.6780 - accuracy: 0.7616\n",
            "Epoch 16/35\n",
            "782/782 [==============================] - 10s 13ms/step - loss: 0.6516 - accuracy: 0.7727\n",
            "Epoch 17/35\n",
            "782/782 [==============================] - 10s 13ms/step - loss: 0.6239 - accuracy: 0.7835\n",
            "Epoch 18/35\n",
            "782/782 [==============================] - 10s 13ms/step - loss: 0.5981 - accuracy: 0.7921\n",
            "Epoch 19/35\n",
            "782/782 [==============================] - 10s 13ms/step - loss: 0.5745 - accuracy: 0.8003\n",
            "Epoch 20/35\n",
            "782/782 [==============================] - 10s 13ms/step - loss: 0.5502 - accuracy: 0.8102\n",
            "Epoch 21/35\n",
            "782/782 [==============================] - 10s 13ms/step - loss: 0.5305 - accuracy: 0.8164\n",
            "Epoch 22/35\n",
            "782/782 [==============================] - 10s 13ms/step - loss: 0.5099 - accuracy: 0.8243\n",
            "Epoch 23/35\n",
            "782/782 [==============================] - 10s 13ms/step - loss: 0.4863 - accuracy: 0.8301\n",
            "Epoch 24/35\n",
            "782/782 [==============================] - 10s 13ms/step - loss: 0.4670 - accuracy: 0.8379\n",
            "Epoch 25/35\n",
            "782/782 [==============================] - 10s 13ms/step - loss: 0.4476 - accuracy: 0.8455\n",
            "Epoch 26/35\n",
            "782/782 [==============================] - 10s 13ms/step - loss: 0.4280 - accuracy: 0.8523\n",
            "Epoch 27/35\n",
            "782/782 [==============================] - 10s 13ms/step - loss: 0.4094 - accuracy: 0.8577\n",
            "Epoch 28/35\n",
            "782/782 [==============================] - 10s 13ms/step - loss: 0.3918 - accuracy: 0.8651\n",
            "Epoch 29/35\n",
            "782/782 [==============================] - 10s 13ms/step - loss: 0.3756 - accuracy: 0.8717\n",
            "Epoch 30/35\n",
            "782/782 [==============================] - 10s 13ms/step - loss: 0.3579 - accuracy: 0.8771\n",
            "Epoch 31/35\n",
            "782/782 [==============================] - 10s 13ms/step - loss: 0.3421 - accuracy: 0.8828\n",
            "Epoch 32/35\n",
            "782/782 [==============================] - 10s 13ms/step - loss: 0.3308 - accuracy: 0.8875\n",
            "Epoch 33/35\n",
            "782/782 [==============================] - 10s 13ms/step - loss: 0.3145 - accuracy: 0.8935\n",
            "Epoch 34/35\n",
            "782/782 [==============================] - 10s 13ms/step - loss: 0.2998 - accuracy: 0.8985\n",
            "Epoch 35/35\n",
            "782/782 [==============================] - 10s 13ms/step - loss: 0.2878 - accuracy: 0.9016\n"
          ]
        },
        {
          "output_type": "execute_result",
          "data": {
            "text/plain": [
              "<keras.callbacks.History at 0x7f075447bc10>"
            ]
          },
          "metadata": {},
          "execution_count": 15
        }
      ]
    },
    {
      "cell_type": "code",
      "source": [
        "model_2_callback.export('../logs', 'model_2')"
      ],
      "metadata": {
        "id": "b7QW7F9CD3XN"
      },
      "execution_count": 16,
      "outputs": []
    },
    {
      "cell_type": "code",
      "source": [
        ""
      ],
      "metadata": {
        "id": "-vsrt9w5D85j"
      },
      "execution_count": null,
      "outputs": []
    }
  ]
}